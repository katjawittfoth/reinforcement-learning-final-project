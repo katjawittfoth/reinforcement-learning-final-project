{
 "cells": [
  {
   "cell_type": "markdown",
   "metadata": {},
   "source": [
    "# Mountain Car Problem, Q-learning to the Rescue!\n",
    "##### Louise Y Lai and Gokul Krishna\n",
    "\n",
    "The objective of this project is to implement the Mountain Car problem from OpenAI as a reinforcement learning problem, specifically through Q-learning."
   ]
  },
  {
   "cell_type": "code",
   "execution_count": 1,
   "metadata": {
    "ExecuteTime": {
     "end_time": "2019-06-20T06:11:29.186674Z",
     "start_time": "2019-06-20T06:11:28.969832Z"
    }
   },
   "outputs": [],
   "source": [
    "import gym\n",
    "import numpy as np\n",
    "import matplotlib.pyplot as plt"
   ]
  },
  {
   "cell_type": "markdown",
   "metadata": {},
   "source": [
    "## Making an environment"
   ]
  },
  {
   "cell_type": "code",
   "execution_count": 3,
   "metadata": {
    "ExecuteTime": {
     "end_time": "2019-06-20T06:12:12.697236Z",
     "start_time": "2019-06-20T06:12:12.682873Z"
    }
   },
   "outputs": [
    {
     "data": {
      "text/plain": [
       "array([-0.50620985,  0.        ])"
      ]
     },
     "execution_count": 3,
     "metadata": {},
     "output_type": "execute_result"
    }
   ],
   "source": [
    "env = gym.make('MountainCar-v0') # this simply imports the environment\n",
    "env.reset()"
   ]
  },
  {
   "cell_type": "markdown",
   "metadata": {},
   "source": [
    "## create Q table"
   ]
  },
  {
   "cell_type": "code",
   "execution_count": 2,
   "metadata": {
    "ExecuteTime": {
     "end_time": "2019-06-20T06:11:52.344044Z",
     "start_time": "2019-06-20T06:11:52.340076Z"
    }
   },
   "outputs": [],
   "source": [
    "def create_q_table(environment, num_states, low=-1, high=1):\n",
    "    return np.random.uniform(low, high, size=(num_states[0],\n",
    "                                              num_states[1],\n",
    "                                              environment.action_space.n))"
   ]
  },
  {
   "cell_type": "code",
   "execution_count": 4,
   "metadata": {
    "ExecuteTime": {
     "end_time": "2019-06-20T06:16:16.204454Z",
     "start_time": "2019-06-20T06:16:16.198788Z"
    }
   },
   "outputs": [],
   "source": [
    "def find_states(environment):\n",
    "    # figures out the state space\n",
    "    return np.round((environment.observation_space.high - \n",
    "                     env.observation_space.low) * np.array([10, 100])).astype(int) + 1"
   ]
  },
  {
   "cell_type": "markdown",
   "metadata": {},
   "source": [
    "## QLearning Function"
   ]
  },
  {
   "cell_type": "code",
   "execution_count": 10,
   "metadata": {
    "ExecuteTime": {
     "end_time": "2019-06-20T06:43:23.482302Z",
     "start_time": "2019-06-20T06:43:23.426611Z"
    }
   },
   "outputs": [],
   "source": [
    "def QLearning(env, learning, discount, epsilon, min_eps, episodes):\n",
    "\n",
    "    num_states = find_states(environment=env)  # get num states\n",
    "    # create Q table\n",
    "    Q = create_q_table(environment=env, num_states=num_states)\n",
    "    reward_list = []\n",
    "    ave_reward_list = []\n",
    "    # calculate episodic reduction in epsilon\n",
    "    reduction = (epsilon - min_eps) / episodes\n",
    "\n",
    "    # run Q learning algorithm\n",
    "    for i in range(episodes):\n",
    "        done = False\n",
    "        tot_reward, reward = 0, 0\n",
    "        state = env.reset()\n",
    "\n",
    "        # discretize state\n",
    "        state_adj = (state - env.observation_space.low)*np.array([10, 100])\n",
    "        state_adj = np.round(state_adj, 0).astype(int)\n",
    "\n",
    "        while done != True:\n",
    "\n",
    "            # render environment for last five episodes\n",
    "            if i >= (episodes - 20):\n",
    "                pass\n",
    "                #env.render()\n",
    "\n",
    "            # determine next action - epsilon greedy strategy\n",
    "            if np.random.random() < 1 - epsilon:\n",
    "                action = np.argmax(Q[state_adj[0], state_adj[1]])\n",
    "            else:\n",
    "                action = np.random.randint(0, env.action_space.n)\n",
    "\n",
    "            # get next state and reward\n",
    "            state2, reward, done, info = env.step(action)\n",
    "\n",
    "            # discretize state2\n",
    "            state2_adj = (state2 - env.observation_space.low) * \\\n",
    "                np.array([10, 100])\n",
    "            state2_adj = np.round(state2_adj, 0).astype(int)\n",
    "\n",
    "            # allow for terminal states\n",
    "            if done and state2[0] >= 0.5:\n",
    "                Q[state_adj[0], state_adj[1], action] = reward\n",
    "\n",
    "            # adjust Q value for current state\n",
    "            else:\n",
    "                delta = learning*(reward +\n",
    "                                  discount*np.max(Q[state2_adj[0],\n",
    "                                                    state2_adj[1]]) -\n",
    "                                  Q[state_adj[0], state_adj[1], action])\n",
    "                Q[state_adj[0], state_adj[1], action] += delta\n",
    "\n",
    "            # update variables\n",
    "            tot_reward += reward\n",
    "            state_adj = state2_adj\n",
    "\n",
    "        # decay epsilon\n",
    "        if epsilon > min_eps:\n",
    "            epsilon -= reduction\n",
    "\n",
    "        # track rewards\n",
    "        reward_list.append(tot_reward)\n",
    "\n",
    "        if (i+1) % 100 == 0:\n",
    "            ave_reward = np.mean(reward_list)\n",
    "            ave_reward_list.append(ave_reward)\n",
    "            reward_list = []\n",
    "\n",
    "        if (i+1) % 100 == 0:\n",
    "            print('Episode {} Average Reward: {}'.format(i+1, ave_reward))\n",
    "\n",
    "    env.close()\n",
    "\n",
    "    return ave_reward_list"
   ]
  },
  {
   "cell_type": "code",
   "execution_count": 11,
   "metadata": {
    "ExecuteTime": {
     "end_time": "2019-06-20T06:43:42.916072Z",
     "start_time": "2019-06-20T06:43:27.952922Z"
    }
   },
   "outputs": [
    {
     "name": "stdout",
     "output_type": "stream",
     "text": [
      "Episode 100 Average Reward: -200.0\n",
      "Episode 200 Average Reward: -200.0\n",
      "Episode 300 Average Reward: -200.0\n",
      "Episode 400 Average Reward: -200.0\n",
      "Episode 500 Average Reward: -200.0\n",
      "Episode 600 Average Reward: -200.0\n",
      "Episode 700 Average Reward: -200.0\n",
      "Episode 800 Average Reward: -200.0\n",
      "Episode 900 Average Reward: -200.0\n",
      "Episode 1000 Average Reward: -200.0\n",
      "Episode 1100 Average Reward: -200.0\n",
      "Episode 1200 Average Reward: -200.0\n",
      "Episode 1300 Average Reward: -200.0\n",
      "Episode 1400 Average Reward: -200.0\n",
      "Episode 1500 Average Reward: -200.0\n",
      "Episode 1600 Average Reward: -200.0\n",
      "Episode 1700 Average Reward: -200.0\n",
      "Episode 1800 Average Reward: -200.0\n",
      "Episode 1900 Average Reward: -199.74\n",
      "Episode 2000 Average Reward: -199.44\n",
      "Episode 2100 Average Reward: -199.89\n",
      "Episode 2200 Average Reward: -198.46\n",
      "Episode 2300 Average Reward: -199.64\n",
      "Episode 2400 Average Reward: -194.84\n",
      "Episode 2500 Average Reward: -199.06\n",
      "Episode 2600 Average Reward: -198.53\n",
      "Episode 2700 Average Reward: -195.93\n",
      "Episode 2800 Average Reward: -199.1\n",
      "Episode 2900 Average Reward: -181.82\n",
      "Episode 3000 Average Reward: -179.67\n"
     ]
    }
   ],
   "source": [
    "# run Q-learning algorithm\n",
    "rewards = QLearning(env, 0.2, 0.9, 0.8, 0, 3000)"
   ]
  },
  {
   "cell_type": "code",
   "execution_count": 14,
   "metadata": {
    "ExecuteTime": {
     "end_time": "2019-06-20T06:44:15.086299Z",
     "start_time": "2019-06-20T06:44:15.079751Z"
    }
   },
   "outputs": [],
   "source": [
    "%matplotlib inline"
   ]
  },
  {
   "cell_type": "code",
   "execution_count": 16,
   "metadata": {
    "ExecuteTime": {
     "end_time": "2019-06-20T06:44:21.087015Z",
     "start_time": "2019-06-20T06:44:20.947631Z"
    }
   },
   "outputs": [
    {
     "data": {
      "text/plain": [
       "Text(0.5, 1.0, 'Average Reward vs Episodes')"
      ]
     },
     "execution_count": 16,
     "metadata": {},
     "output_type": "execute_result"
    },
    {
     "data": {
      "image/png": "[encoded data removed]",
      "text/plain": [
       "<Figure size 432x288 with 1 Axes>"
      ]
     },
     "metadata": {
      "needs_background": "light"
     },
     "output_type": "display_data"
    }
   ],
   "source": [
    "# plot rewards\n",
    "plt.plot(100*(np.arange(len(rewards)) + 1), rewards)\n",
    "plt.xlabel('Episodes')\n",
    "plt.ylabel('Average Reward')\n",
    "plt.title('Average Reward vs Episodes')\n",
    "# plt.savefig('rewards.jpg')\n",
    "# plt.close()"
   ]
  },
  {
   "cell_type": "code",
   "execution_count": null,
   "metadata": {},
   "outputs": [],
   "source": []
  }
 ],
 "metadata": {
  "kernelspec": {
   "display_name": "rl",
   "language": "python",
   "name": "rl-course"
  },
  "language_info": {
   "codemirror_mode": {
    "name": "ipython",
    "version": 3
   },
   "file_extension": ".py",
   "mimetype": "text/x-python",
   "name": "python",
   "nbconvert_exporter": "python",
   "pygments_lexer": "ipython3",
   "version": "3.7.3"
  },
  "toc": {
   "base_numbering": 1,
   "nav_menu": {},
   "number_sections": true,
   "sideBar": true,
   "skip_h1_title": false,
   "title_cell": "Table of Contents",
   "title_sidebar": "Contents",
   "toc_cell": false,
   "toc_position": {},
   "toc_section_display": true,
   "toc_window_display": false
  }
 },
 "nbformat": 4,
 "nbformat_minor": 2
}
