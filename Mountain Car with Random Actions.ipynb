{
 "cells": [
  {
   "cell_type": "markdown",
   "metadata": {},
   "source": [
    "# Mountain Car Problem, Random Actions"
   ]
  },
  {
   "cell_type": "code",
   "execution_count": 1,
   "metadata": {
    "ExecuteTime": {
     "end_time": "2019-06-20T06:45:34.538414Z",
     "start_time": "2019-06-20T06:45:34.335873Z"
    }
   },
   "outputs": [],
   "source": [
    "import gym\n",
    "import numpy as np\n",
    "import matplotlib.pyplot as plt"
   ]
  },
  {
   "cell_type": "markdown",
   "metadata": {},
   "source": [
    "## Making an environment"
   ]
  },
  {
   "cell_type": "code",
   "execution_count": 2,
   "metadata": {
    "ExecuteTime": {
     "end_time": "2019-06-20T06:45:35.476623Z",
     "start_time": "2019-06-20T06:45:35.457923Z"
    }
   },
   "outputs": [
    {
     "data": {
      "text/plain": [
       "array([-0.48269955,  0.        ])"
      ]
     },
     "execution_count": 2,
     "metadata": {},
     "output_type": "execute_result"
    }
   ],
   "source": [
    "env = gym.make('MountainCar-v0') # this simply imports the environment\n",
    "env.reset()"
   ]
  },
  {
   "cell_type": "code",
   "execution_count": 4,
   "metadata": {
    "ExecuteTime": {
     "end_time": "2019-06-20T06:45:37.621860Z",
     "start_time": "2019-06-20T06:45:37.614939Z"
    }
   },
   "outputs": [],
   "source": [
    "def find_states(environment):\n",
    "    # figures out the state space\n",
    "    return np.round((environment.observation_space.high - \n",
    "                     env.observation_space.low) * np.array([10, 100])).astype(int) + 1"
   ]
  },
  {
   "cell_type": "code",
   "execution_count": 5,
   "metadata": {
    "ExecuteTime": {
     "end_time": "2019-06-20T06:48:44.811070Z",
     "start_time": "2019-06-20T06:48:44.807259Z"
    }
   },
   "outputs": [
    {
     "data": {
      "text/plain": [
       "Discrete(3)"
      ]
     },
     "execution_count": 5,
     "metadata": {},
     "output_type": "execute_result"
    }
   ],
   "source": [
    "env.action_space"
   ]
  },
  {
   "cell_type": "code",
   "execution_count": 6,
   "metadata": {
    "ExecuteTime": {
     "end_time": "2019-06-20T06:49:27.395747Z",
     "start_time": "2019-06-20T06:49:27.386943Z"
    }
   },
   "outputs": [],
   "source": [
    "num_states = find_states(environment=env)"
   ]
  },
  {
   "cell_type": "code",
   "execution_count": 12,
   "metadata": {
    "ExecuteTime": {
     "end_time": "2019-06-20T06:50:22.554319Z",
     "start_time": "2019-06-20T06:50:22.549719Z"
    }
   },
   "outputs": [],
   "source": [
    "state = env.reset()"
   ]
  },
  {
   "cell_type": "code",
   "execution_count": 13,
   "metadata": {
    "ExecuteTime": {
     "end_time": "2019-06-20T06:50:22.842661Z",
     "start_time": "2019-06-20T06:50:22.832693Z"
    }
   },
   "outputs": [
    {
     "data": {
      "text/plain": [
       "array([-0.52488101,  0.        ])"
      ]
     },
     "execution_count": 13,
     "metadata": {},
     "output_type": "execute_result"
    }
   ],
   "source": [
    "state"
   ]
  },
  {
   "cell_type": "code",
   "execution_count": 16,
   "metadata": {
    "ExecuteTime": {
     "end_time": "2019-06-20T07:03:41.627978Z",
     "start_time": "2019-06-20T07:03:41.593121Z"
    }
   },
   "outputs": [],
   "source": [
    "n_steps = 0\n",
    "\n",
    "tot_reward, reward = 0, 0\n",
    "\n",
    "state_adj = (state - env.observation_space.low)*np.array([10, 100])\n",
    "state_adj = np.round(state_adj, 0).astype(int)\n",
    "\n",
    "while done != True:\n",
    "\n",
    "    action = np.random.randint(0, env.action_space.n)\n",
    "\n",
    "    # get next state and reward\n",
    "    state2, reward, done, info = env.step(action)\n",
    "\n",
    "    # discretize state2\n",
    "    state2_adj = (state2 - env.observation_space.low) * np.array([10, 100])\n",
    "    state2_adj = np.round(state2_adj, 0).astype(int)\n",
    "\n",
    "    # allow for terminal states\n",
    "    if done and state2[0] >= 0.5:\n",
    "        Q[state_adj[0], state_adj[1], action] = reward\n",
    "\n",
    "    # update variables\n",
    "    tot_reward += reward\n",
    "    state_adj = state2_adj\n",
    "    \n",
    "    if n_steps > 1000:\n",
    "        break"
   ]
  }
 ],
 "metadata": {
  "kernelspec": {
   "display_name": "rl",
   "language": "python",
   "name": "rl-course"
  },
  "language_info": {
   "codemirror_mode": {
    "name": "ipython",
    "version": 3
   },
   "file_extension": ".py",
   "mimetype": "text/x-python",
   "name": "python",
   "nbconvert_exporter": "python",
   "pygments_lexer": "ipython3",
   "version": "3.7.3"
  },
  "toc": {
   "base_numbering": 1,
   "nav_menu": {},
   "number_sections": true,
   "sideBar": true,
   "skip_h1_title": false,
   "title_cell": "Table of Contents",
   "title_sidebar": "Contents",
   "toc_cell": false,
   "toc_position": {},
   "toc_section_display": true,
   "toc_window_display": false
  }
 },
 "nbformat": 4,
 "nbformat_minor": 2
}
